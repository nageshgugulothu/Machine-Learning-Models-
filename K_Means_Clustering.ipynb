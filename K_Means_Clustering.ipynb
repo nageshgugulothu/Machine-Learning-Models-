{
 "cells": [
  {
   "cell_type": "markdown",
   "metadata": {
    "id": "zeD8WGmObs_I"
   },
   "source": [
    "## **K-Means Clustering**"
   ]
  },
  {
   "cell_type": "markdown",
   "metadata": {
    "id": "H9j_qmmEbzuy"
   },
   "source": [
    "## **Agenda**"
   ]
  },
  {
   "cell_type": "markdown",
   "metadata": {
    "id": "vOoy8vQqb-f9"
   },
   "source": [
    "In this session, we will cover the following concepts with the help of a business use case:\n",
    "* K-means clustering\n",
    "* Deciding optimal number of clusters:\n",
    "  * Elbow method"
   ]
  },
  {
   "cell_type": "markdown",
   "metadata": {
    "id": "ReEP8T0_U5Nj"
   },
   "source": [
    "Now, let's understand k-means clustering with a use case."
   ]
  },
  {
   "cell_type": "markdown",
   "metadata": {
    "id": "UwefSXWee8qA"
   },
   "source": [
    "#### <b>Problem Statement: </b>\n",
    "Lithionpower is the largest provider of electric vehicle batteries.  \n",
    "It provides battery on a rental model to e-vehicle drivers. Drivers rent battery typically for a day and then replace it with a charged battery from the company. \n",
    "Lithionpower has a variable pricing model based on the driver's driving history. Battery life depends on factors like overspeeding, distance driven per day, and so on.\n",
    "\n",
    "#### <b> Objective: </b>\n",
    "Create a cluster model where drivers can be grouped together based on their driving data.\n",
    "Group the data points so that drivers will be incentivized based on the cluster."
   ]
  },
  {
   "cell_type": "markdown",
   "metadata": {
    "id": "QuFeU9Sq8sRm"
   },
   "source": [
    "#### **Data Dictionary**"
   ]
  },
  {
   "cell_type": "markdown",
   "metadata": {
    "id": "Z-rwsRX88n5W"
   },
   "source": [
    "For the sake of simplicity, you will take only two features such as mean distance driven per day and the mean percentage of time when a driver was more than 5 mph over the speed limit. \n",
    "\n",
    "Here are what the data represent:\n",
    "* id: Unique ID of the driver \n",
    "* mean_dist_day: Mean distance driven by driver per day\n",
    "* mean_over_speed_perc: Mean percentage of time when a driver was more than 5 mph over the speed limit"
   ]
  },
  {
   "cell_type": "markdown",
   "metadata": {
    "id": "Kr90ro50ozGI"
   },
   "source": [
    "#### **Solution**"
   ]
  },
  {
   "cell_type": "markdown",
   "metadata": {
    "id": "W14jX_v34LoZ"
   },
   "source": [
    "**Import Libraries**"
   ]
  },
  {
   "cell_type": "code",
   "execution_count": 1,
   "metadata": {
    "id": "6MAzISPa4L97"
   },
   "outputs": [],
   "source": [
    "import pandas as pd\n",
    "import numpy as np\n",
    "import matplotlib.pyplot as plt, seaborn as sns\n",
    "%matplotlib inline"
   ]
  },
  {
   "cell_type": "markdown",
   "metadata": {
    "id": "yktJpDlGGmRZ"
   },
   "source": [
    "In the above code, you are importing the necessary library. Refer to lesson 3 to know about the libraries. "
   ]
  },
  {
   "cell_type": "markdown",
   "metadata": {
    "id": "kTrPpBFR4YZm"
   },
   "source": [
    "#### **Import and Check the Dataset**"
   ]
  },
  {
   "cell_type": "markdown",
   "metadata": {
    "id": "sv7F-p7TGmRZ"
   },
   "source": [
    "Now, before reading the data from a csv file, you need to download \"driver-data.csv\" dataset from the resource section and upload it to the lab."
   ]
  },
  {
   "cell_type": "code",
   "execution_count": 2,
   "metadata": {
    "id": "kcE49r1x4fL8"
   },
   "outputs": [],
   "source": [
    "df = pd.read_csv(\"driver-data.csv\")"
   ]
  },
  {
   "cell_type": "markdown",
   "metadata": {
    "id": "lrCXIK-1GmRa"
   },
   "source": [
    "In the above code, we are importing the \"driver-data.csv\" file."
   ]
  },
  {
   "cell_type": "code",
   "execution_count": 3,
   "metadata": {
    "id": "4Aq-fRZv4fg5"
   },
   "outputs": [
    {
     "data": {
      "text/html": [
       "<div>\n",
       "<style scoped>\n",
       "    .dataframe tbody tr th:only-of-type {\n",
       "        vertical-align: middle;\n",
       "    }\n",
       "\n",
       "    .dataframe tbody tr th {\n",
       "        vertical-align: top;\n",
       "    }\n",
       "\n",
       "    .dataframe thead th {\n",
       "        text-align: right;\n",
       "    }\n",
       "</style>\n",
       "<table border=\"1\" class=\"dataframe\">\n",
       "  <thead>\n",
       "    <tr style=\"text-align: right;\">\n",
       "      <th></th>\n",
       "      <th>id</th>\n",
       "      <th>mean_dist_day</th>\n",
       "      <th>mean_over_speed_perc</th>\n",
       "    </tr>\n",
       "  </thead>\n",
       "  <tbody>\n",
       "    <tr>\n",
       "      <th>0</th>\n",
       "      <td>3423311935</td>\n",
       "      <td>71.24</td>\n",
       "      <td>28</td>\n",
       "    </tr>\n",
       "    <tr>\n",
       "      <th>1</th>\n",
       "      <td>3423313212</td>\n",
       "      <td>52.53</td>\n",
       "      <td>25</td>\n",
       "    </tr>\n",
       "    <tr>\n",
       "      <th>2</th>\n",
       "      <td>3423313724</td>\n",
       "      <td>64.54</td>\n",
       "      <td>27</td>\n",
       "    </tr>\n",
       "    <tr>\n",
       "      <th>3</th>\n",
       "      <td>3423311373</td>\n",
       "      <td>55.69</td>\n",
       "      <td>22</td>\n",
       "    </tr>\n",
       "    <tr>\n",
       "      <th>4</th>\n",
       "      <td>3423310999</td>\n",
       "      <td>54.58</td>\n",
       "      <td>25</td>\n",
       "    </tr>\n",
       "  </tbody>\n",
       "</table>\n",
       "</div>"
      ],
      "text/plain": [
       "           id  mean_dist_day  mean_over_speed_perc\n",
       "0  3423311935          71.24                    28\n",
       "1  3423313212          52.53                    25\n",
       "2  3423313724          64.54                    27\n",
       "3  3423311373          55.69                    22\n",
       "4  3423310999          54.58                    25"
      ]
     },
     "execution_count": 3,
     "metadata": {},
     "output_type": "execute_result"
    }
   ],
   "source": [
    "#Check first five rows\n",
    "df.head()"
   ]
  },
  {
   "cell_type": "markdown",
   "metadata": {
    "id": "Nc3A28AjGmRb"
   },
   "source": [
    "* In the above code, we are using head function.\n",
    "* head will show the rows, and () default will take 5 top rows as output.\n",
    "* Another example - df.head(3) will show top 3 rows."
   ]
  },
  {
   "cell_type": "code",
   "execution_count": 4,
   "metadata": {
    "id": "lHP7mep35QZl"
   },
   "outputs": [
    {
     "name": "stdout",
     "output_type": "stream",
     "text": [
      "<class 'pandas.core.frame.DataFrame'>\n",
      "RangeIndex: 4000 entries, 0 to 3999\n",
      "Data columns (total 3 columns):\n",
      " #   Column                Non-Null Count  Dtype  \n",
      "---  ------                --------------  -----  \n",
      " 0   id                    4000 non-null   int64  \n",
      " 1   mean_dist_day         4000 non-null   float64\n",
      " 2   mean_over_speed_perc  4000 non-null   int64  \n",
      "dtypes: float64(1), int64(2)\n",
      "memory usage: 93.9 KB\n"
     ]
    }
   ],
   "source": [
    "#Check number of columns and rows, and data types\n",
    "df.info()"
   ]
  },
  {
   "cell_type": "markdown",
   "metadata": {
    "id": "dhwUSZ_5GmRc"
   },
   "source": [
    "* The dataframe's information is printed using the info() function. "
   ]
  },
  {
   "cell_type": "markdown",
   "metadata": {
    "id": "RdC9Cp5A59Zs"
   },
   "source": [
    "#### **Finding and Treating Null Values**"
   ]
  },
  {
   "cell_type": "code",
   "execution_count": 5,
   "metadata": {
    "id": "PUPGM_kN5S5P"
   },
   "outputs": [
    {
     "data": {
      "text/plain": [
       "id                      0\n",
       "mean_dist_day           0\n",
       "mean_over_speed_perc    0\n",
       "dtype: int64"
      ]
     },
     "execution_count": 5,
     "metadata": {},
     "output_type": "execute_result"
    }
   ],
   "source": [
    "#Finding count of null values\n",
    "df.isnull().sum(axis=0)"
   ]
  },
  {
   "cell_type": "markdown",
   "metadata": {
    "id": "2Kh77c_4iYZe"
   },
   "source": [
    "#### **Check Data Types**"
   ]
  },
  {
   "cell_type": "code",
   "execution_count": 6,
   "metadata": {
    "id": "GQ9Xdj6NiYZf"
   },
   "outputs": [
    {
     "data": {
      "text/plain": [
       "id                        int64\n",
       "mean_dist_day           float64\n",
       "mean_over_speed_perc      int64\n",
       "dtype: object"
      ]
     },
     "execution_count": 6,
     "metadata": {},
     "output_type": "execute_result"
    }
   ],
   "source": [
    "df.dtypes"
   ]
  },
  {
   "cell_type": "markdown",
   "metadata": {
    "id": "d8FTuWGEGmRd"
   },
   "source": [
    "To check the type of data, you can use dtypes method."
   ]
  },
  {
   "cell_type": "markdown",
   "metadata": {
    "id": "VW-mfzbYU5N-"
   },
   "source": [
    "#### **Visualize the Data points** "
   ]
  },
  {
   "cell_type": "code",
   "execution_count": 7,
   "metadata": {
    "id": "ZsJ7sMYmU5N_"
   },
   "outputs": [
    {
     "data": {
      "text/plain": [
       "Text(0, 0.5, 'mean_over_speed_perc')"
      ]
     },
     "execution_count": 7,
     "metadata": {},
     "output_type": "execute_result"
    },
    {
     "data": {
      "image/png": "[encoded data removed]",
      "text/plain": [
       "<Figure size 640x480 with 1 Axes>"
      ]
     },
     "metadata": {},
     "output_type": "display_data"
    }
   ],
   "source": [
    "plt.scatter(df['mean_dist_day'],df['mean_over_speed_perc'])\n",
    "plt.xlabel('mean_dist_day')\n",
    "plt.ylabel('mean_over_speed_perc')"
   ]
  },
  {
   "cell_type": "markdown",
   "metadata": {
    "id": "TQ5u38lHU5OC"
   },
   "source": [
    "Now we have to cluster the data points that we can group or label in different categories, and this is where K-Means Clustering comes into the picture."
   ]
  },
  {
   "cell_type": "markdown",
   "metadata": {
    "id": "DxOK6Wwa486S"
   },
   "source": [
    "\n",
    "## **K-Means Clustering**\n",
    "\n",
    "K-means clustering aims to partition **n observations** into **k clusters** in which each observation belongs to the cluster with the nearest mean, serving as a prototype of the cluster.\n",
    "\n",
    "\n",
    "Clusters in \"k-means clustering\" follow these two underlying rules: \n",
    "* The \"cluster center\" is the arithmetic mean of all the points belonging to the cluster.\n",
    "* Each point is closer to its own cluster center than to other cluster centers."
   ]
  },
  {
   "cell_type": "markdown",
   "metadata": {
    "id": "ITFYLmb85LIN"
   },
   "source": [
    "## **K-Means: Mathematical Representation**\n",
    "\n",
    "\n",
    "K-Means objective minimizes the total distortion (sum of distances of points from their cluster centers).\n",
    "\n",
    "The objective function for k-means is as follows:\n",
    "$$J(µ,r) = \\sum_{n=1}^{N}\\sum_{k=1}^{K}r_{nk}||X_n − µ_k ||^2$$\n",
    "\n",
    "* µ1, . . . , µK are the K cluster centroids (means).\n",
    "* $r_{nk}$ ∈ {0, 1} are indicators denoting whether point $x_n$ belong to cluster k."
   ]
  },
  {
   "cell_type": "markdown",
   "metadata": {
    "id": "VoENXjwN5ie-"
   },
   "source": [
    "## **K-Means: Expectation–Maximization**\n",
    "\n",
    "K-Means is a particularly simple and easy-to-understand application of an iterative algorithm known as **Expectation–Maximization**.\n",
    "\n",
    "\n",
    "The expectation–maximization approach consists of the following procedures:\n",
    "1. Guess some of the cluster centers\n",
    "2. Repeat until converged\n",
    "    * E-Step: Assign points to the nearest cluster center\n",
    "    * M-Step: Set the cluster centers to the mean"
   ]
  },
  {
   "cell_type": "markdown",
   "metadata": {
    "id": "z2kvR3Hq5yLO"
   },
   "source": [
    "Now, let's see how the algorithm works."
   ]
  },
  {
   "cell_type": "markdown",
   "metadata": {
    "id": "rBvsxRSh5vPD"
   },
   "source": [
    "\n",
    "\n",
    "\n",
    "## **K-Means Clustering Algorithm**\n",
    "\n",
    "* **Step 1**: Start by making a guess on where the central points of each cluster are. Let us call these pseudo-centers, since we do not know yet if they are actually at the center of their clusters.\n",
    "* **Step 2**: Assign each data point to the nearest pseudo-center. By doing so, we have just formed clusters, with each cluster comprising all data points associated with its pseudo-center.\n",
    "* **Step 3**: Update the location of each cluster’s pseudo-center, such that it is now indeed in the center of all its members.\n",
    "* **Step 4**: Repeat the steps of reassigning cluster members (Step 2) and relocating cluster centers (Step 3), until there are no more changes to the cluster membership."
   ]
  },
  {
   "cell_type": "markdown",
   "metadata": {
    "id": "4yRc7M4fU5OG"
   },
   "source": [
    "Many clustering algorithms are available in Scikit-Learn and elsewhere, but the simplest to understand is k-means clustering, which is implemented in **`sklearn.cluster.KMeans`**."
   ]
  },
  {
   "cell_type": "code",
   "execution_count": 8,
   "metadata": {
    "id": "8IOLKryhU5OH"
   },
   "outputs": [],
   "source": [
    "from sklearn.cluster import KMeans"
   ]
  },
  {
   "cell_type": "markdown",
   "metadata": {
    "id": "DHm8_O97GmRh"
   },
   "source": [
    "You are importing K-means which means k-means algorithm searches for a pre-determined number of clusters within an unlabeled multidimensional dataset."
   ]
  },
  {
   "cell_type": "markdown",
   "metadata": {
    "id": "bWju26fEULXA"
   },
   "source": [
    "#### **Run the Algorithm with K=3**\n",
    "Fit the model to all the data, except for the ID label."
   ]
  },
  {
   "cell_type": "code",
   "execution_count": 9,
   "metadata": {
    "id": "uxs8kuBpqsyM"
   },
   "outputs": [
    {
     "data": {
      "text/plain": [
       "array([0, 0, 0, ..., 1, 1, 1])"
      ]
     },
     "execution_count": 9,
     "metadata": {},
     "output_type": "execute_result"
    }
   ],
   "source": [
    "km = KMeans(n_clusters=3)\n",
    "y_predicted = km.fit_predict(df[['mean_dist_day','mean_over_speed_perc']])\n",
    "y_predicted"
   ]
  },
  {
   "cell_type": "markdown",
   "metadata": {
    "id": "tJ0HQjP7U5ON",
    "tags": []
   },
   "source": [
    "#### **Add the Predicted Clusters Column to the Dataset**"
   ]
  },
  {
   "cell_type": "code",
   "execution_count": 10,
   "metadata": {
    "id": "SRnofeqlq9oX"
   },
   "outputs": [
    {
     "data": {
      "text/html": [
       "<div>\n",
       "<style scoped>\n",
       "    .dataframe tbody tr th:only-of-type {\n",
       "        vertical-align: middle;\n",
       "    }\n",
       "\n",
       "    .dataframe tbody tr th {\n",
       "        vertical-align: top;\n",
       "    }\n",
       "\n",
       "    .dataframe thead th {\n",
       "        text-align: right;\n",
       "    }\n",
       "</style>\n",
       "<table border=\"1\" class=\"dataframe\">\n",
       "  <thead>\n",
       "    <tr style=\"text-align: right;\">\n",
       "      <th></th>\n",
       "      <th>id</th>\n",
       "      <th>mean_dist_day</th>\n",
       "      <th>mean_over_speed_perc</th>\n",
       "      <th>cluster</th>\n",
       "    </tr>\n",
       "  </thead>\n",
       "  <tbody>\n",
       "    <tr>\n",
       "      <th>1874</th>\n",
       "      <td>3423313510</td>\n",
       "      <td>33.20</td>\n",
       "      <td>3</td>\n",
       "      <td>0</td>\n",
       "    </tr>\n",
       "    <tr>\n",
       "      <th>2381</th>\n",
       "      <td>3423313047</td>\n",
       "      <td>31.40</td>\n",
       "      <td>7</td>\n",
       "      <td>0</td>\n",
       "    </tr>\n",
       "    <tr>\n",
       "      <th>2276</th>\n",
       "      <td>3423313829</td>\n",
       "      <td>61.28</td>\n",
       "      <td>6</td>\n",
       "      <td>0</td>\n",
       "    </tr>\n",
       "    <tr>\n",
       "      <th>273</th>\n",
       "      <td>3423311594</td>\n",
       "      <td>47.21</td>\n",
       "      <td>36</td>\n",
       "      <td>0</td>\n",
       "    </tr>\n",
       "    <tr>\n",
       "      <th>1306</th>\n",
       "      <td>3423313662</td>\n",
       "      <td>33.77</td>\n",
       "      <td>3</td>\n",
       "      <td>0</td>\n",
       "    </tr>\n",
       "  </tbody>\n",
       "</table>\n",
       "</div>"
      ],
      "text/plain": [
       "              id  mean_dist_day  mean_over_speed_perc  cluster\n",
       "1874  3423313510          33.20                     3        0\n",
       "2381  3423313047          31.40                     7        0\n",
       "2276  3423313829          61.28                     6        0\n",
       "273   3423311594          47.21                    36        0\n",
       "1306  3423313662          33.77                     3        0"
      ]
     },
     "execution_count": 10,
     "metadata": {},
     "output_type": "execute_result"
    }
   ],
   "source": [
    "df['cluster']=y_predicted\n",
    "df.sample(5)"
   ]
  },
  {
   "cell_type": "markdown",
   "metadata": {
    "id": "8JQ4Vo_lU5OQ"
   },
   "source": [
    "#### **Get the Coordinates of Cluster Centers**"
   ]
  },
  {
   "cell_type": "code",
   "execution_count": 11,
   "metadata": {
    "id": "ELHf0uRqrBfy"
   },
   "outputs": [
    {
     "data": {
      "text/plain": [
       "array([[ 50.04763438,   8.82875   ],\n",
       "       [180.34311782,  10.52011494],\n",
       "       [177.83509615,  70.28846154]])"
      ]
     },
     "execution_count": 11,
     "metadata": {},
     "output_type": "execute_result"
    }
   ],
   "source": [
    "km.cluster_centers_"
   ]
  },
  {
   "cell_type": "markdown",
   "metadata": {
    "id": "F56foMSzU5OU"
   },
   "source": [
    "#### **Plot the Clusters with their Centroids**"
   ]
  },
  {
   "cell_type": "code",
   "execution_count": 12,
   "metadata": {
    "id": "ejSqSraPrM7p"
   },
   "outputs": [
    {
     "data": {
      "text/plain": [
       "<matplotlib.legend.Legend at 0x13cc19d7d60>"
      ]
     },
     "execution_count": 12,
     "metadata": {},
     "output_type": "execute_result"
    },
    {
     "data": {
      "image/png": "[encoded data removed]",
      "text/plain": [
       "<Figure size 640x480 with 1 Axes>"
      ]
     },
     "metadata": {},
     "output_type": "display_data"
    }
   ],
   "source": [
    "df1 = df[df.cluster==0]\n",
    "df2 = df[df.cluster==1]\n",
    "df3 = df[df.cluster==2]\n",
    "\n",
    "plt.scatter(df1['mean_dist_day'],df1['mean_over_speed_perc'],color='green')\n",
    "plt.scatter(df2['mean_dist_day'],df2['mean_over_speed_perc'],color='red')\n",
    "plt.scatter(df3['mean_dist_day'],df3['mean_over_speed_perc'],color='yellow')\n",
    "\n",
    "plt.scatter(km.cluster_centers_[:,0],km.cluster_centers_[:,1],color='purple',marker='*',label='centroid')\n",
    "plt.xlabel('mean_dist_da')\n",
    "plt.ylabel('mean_over_speed_perc ($)')\n",
    "plt.legend()"
   ]
  },
  {
   "cell_type": "markdown",
   "metadata": {
    "id": "EYkPvadeU5OX"
   },
   "source": [
    "## **Decide the Optimal Number of Clusters**"
   ]
  },
  {
   "cell_type": "markdown",
   "metadata": {
    "id": "MdMp9SlsU5OY"
   },
   "source": [
    "Now, the next question that comes to our mind is how to determine the number of clusters. In our dataset, we got an intuition. However, for a larger dataset, it is hard to determine the number of clusters.\n",
    "\n",
    "To overcome this shortcoming, there is a method called elbow method."
   ]
  },
  {
   "cell_type": "markdown",
   "metadata": {
    "id": "Hp9Hgk_eU5OZ"
   },
   "source": [
    "### **What Is Elbow Method?**"
   ]
  },
  {
   "cell_type": "markdown",
   "metadata": {
    "id": "G3xb6VQYU5OZ"
   },
   "source": [
    "\n",
    "\n",
    "It's a popular technique that involves running k-means clustering for a set of k clusters (let's say 1 to 10) and calculating the sum of squared distances from each point to its assigned center (inertia).\n",
    "\n",
    "When the inertias are plotted and the plot looks like an arm, the “elbow” (the point of inflection on the curve) is the best value of k."
   ]
  },
  {
   "cell_type": "markdown",
   "metadata": {
    "id": "p9LGQUJEU5Oa"
   },
   "source": [
    "#### Take k = 1 to 10 and append them in a list"
   ]
  },
  {
   "cell_type": "code",
   "execution_count": 13,
   "metadata": {
    "id": "gguGUrkfrq7x"
   },
   "outputs": [],
   "source": [
    "sse = []\n",
    "k_rng = range(1,10)\n",
    "for k in k_rng:\n",
    "    km = KMeans(n_clusters=k)\n",
    "    km.fit(df[['mean_dist_day','mean_over_speed_perc']])\n",
    "    sse.append(km.inertia_)"
   ]
  },
  {
   "cell_type": "markdown",
   "metadata": {
    "id": "M9dV40hTU5Od"
   },
   "source": [
    "#### **List Down the Inertias**"
   ]
  },
  {
   "cell_type": "code",
   "execution_count": 14,
   "metadata": {
    "id": "UoupnN0SU5Od"
   },
   "outputs": [
    {
     "data": {
      "text/plain": [
       "[12184626.129627978,\n",
       " 1316420.850947719,\n",
       " 992634.0606702475,\n",
       " 719603.9690822501,\n",
       " 534638.1242580612,\n",
       " 372840.4181212967,\n",
       " 319803.6875967273,\n",
       " 276900.15638831403,\n",
       " 253059.74194270087]"
      ]
     },
     "execution_count": 14,
     "metadata": {},
     "output_type": "execute_result"
    }
   ],
   "source": [
    "sse"
   ]
  },
  {
   "cell_type": "markdown",
   "metadata": {
    "id": "8bRd8FzaU5Of"
   },
   "source": [
    " #### **Plot the Elbow**"
   ]
  },
  {
   "cell_type": "code",
   "execution_count": 15,
   "metadata": {
    "id": "SfOyY5wPswia"
   },
   "outputs": [
    {
     "data": {
      "text/plain": [
       "[<matplotlib.lines.Line2D at 0x13cc1bee5e0>]"
      ]
     },
     "execution_count": 15,
     "metadata": {},
     "output_type": "execute_result"
    },
    {
     "data": {
      "image/png": "[encoded data removed]",
      "text/plain": [
       "<Figure size 640x480 with 1 Axes>"
      ]
     },
     "metadata": {},
     "output_type": "display_data"
    }
   ],
   "source": [
    "plt.xlabel('K')\n",
    "plt.ylabel('Sum of squared error')\n",
    "plt.plot(k_rng,sse)"
   ]
  },
  {
   "cell_type": "markdown",
   "metadata": {
    "id": "SJ9kbSGMU5Oi"
   },
   "source": [
    "The point of inflection in the elbow plot is 2, so we know now that the optimal number of the clusters for the data points is 2."
   ]
  },
  {
   "cell_type": "markdown",
   "metadata": {
    "id": "RAEQPPEBU5Oj"
   },
   "source": [
    "### **Exercise**"
   ]
  },
  {
   "cell_type": "markdown",
   "metadata": {
    "id": "ojB0pd5XU5Oj"
   },
   "source": [
    "* Perform the following on the \"diver dataset\":\n",
    "    * Make a k-means clustering model by taking the number of centroid as 2\n",
    "    * Evaluate the coordinates of the centroids\n",
    "    * Plot the centroids along with their clustered groups"
   ]
  }
 ],
 "metadata": {
  "colab": {
   "collapsed_sections": [],
   "name": "5.02_K_Means_Clustering.ipynb",
   "private_outputs": true,
   "provenance": []
  },
  "kernelspec": {
   "display_name": "Python 3 (ipykernel)",
   "language": "python",
   "name": "python3"
  },
  "language_info": {
   "codemirror_mode": {
    "name": "ipython",
    "version": 3
   },
   "file_extension": ".py",
   "mimetype": "text/x-python",
   "name": "python",
   "nbconvert_exporter": "python",
   "pygments_lexer": "ipython3",
   "version": "3.10.6"
  }
 },
 "nbformat": 4,
 "nbformat_minor": 4
}
