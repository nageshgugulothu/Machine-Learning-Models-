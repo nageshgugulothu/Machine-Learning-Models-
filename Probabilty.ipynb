{
 "cells": [
  {
   "cell_type": "markdown",
   "id": "C8q0IfgrmhJb",
   "metadata": {
    "id": "C8q0IfgrmhJb"
   },
   "source": [
    "# <b>Probability Distribution</b>"
   ]
  },
  {
   "cell_type": "markdown",
   "id": "3iz_VQLy4yf7",
   "metadata": {
    "id": "3iz_VQLy4yf7"
   },
   "source": [
    "# <b> Agenda </b>"
   ]
  },
  {
   "cell_type": "markdown",
   "id": "1JwRUGzZm4zN",
   "metadata": {
    "id": "1JwRUGzZm4zN"
   },
   "source": [
    "In this session, we will cover the following concepts with the help of a business use case:\n",
    "\n",
    "* Probability\n",
    "\n",
    "* Different types of Probability Distribution:\n",
    "    * Binomial Distribution\n",
    "    * Poisson Distribution\n",
    "    * Normal Distribution\n",
    "    * Uniform Distribution\n",
    "* Probability Density Function and Mass Function\n",
    "* Cumulative Distribution Function\n",
    "* Central Limit Theoram\n",
    "* Estimation Theory"
   ]
  },
  {
   "cell_type": "markdown",
   "id": "hgTzWUB4mvJS",
   "metadata": {
    "id": "hgTzWUB4mvJS"
   },
   "source": [
    "# Probability and Its Importance  "
   ]
  },
  {
   "cell_type": "markdown",
   "id": "a36697e3",
   "metadata": {
    "id": "a36697e3"
   },
   "source": [
    "Probability is a mathematical term for the likelihood of any event happening.\n",
    "\n",
    "![proba.PNG](https://s3.us-east-1.amazonaws.com/static2.simplilearn.com/lms/testpaper_images/ADSP/Advanced_Statistics/Probimages/proba.PNG)\n",
    "\n"
   ]
  },
  {
   "cell_type": "markdown",
   "id": "d0e39e1e",
   "metadata": {},
   "source": [
    "The chance of any event occurring is a number between 0 and 1. \n",
    "![0%20and%201.PNG](https://s3.us-east-1.amazonaws.com/static2.simplilearn.com/lms/testpaper_images/ADSP/Advanced_Statistics/Probimages/0%20and%201.PNG)"
   ]
  },
  {
   "cell_type": "markdown",
   "id": "249cd2e6",
   "metadata": {
    "id": "249cd2e6"
   },
   "source": [
    "## Uses of Probability"
   ]
  },
  {
   "cell_type": "markdown",
   "id": "a08ca259",
   "metadata": {
    "id": "a08ca259"
   },
   "source": [
    "\n",
    "1. It is used to anticipate risks and identify ways to manage such risks.\n",
    "\n",
    "2. It is used to make predictions about future events based on their likelihood.\n",
    "\n",
    "3. It is a powerful tool used to incorporate uncertainty in planning and decision making.\n",
    "\n",
    "4. Probability is used in a number of areas such as weather forecasting, scientific research, and healthcare.  \n",
    "\n",
    " \n"
   ]
  },
  {
   "cell_type": "markdown",
   "id": "461882a6",
   "metadata": {
    "id": "461882a6"
   },
   "source": [
    "## Real-Life Examples:"
   ]
  },
  {
   "cell_type": "markdown",
   "id": "8361ea5c",
   "metadata": {
    "id": "8361ea5c"
   },
   "source": [
    "\n",
    "\n",
    "<b> 1. Flipping of a coin: </b> It is essential to decide who will bat or bowl first before the beginning of any cricket match.This is determined by flipping a coin.  Both head and tail of the coin have a 1 out of 2, i.e. a 50% chance of occurring. Hence, the probability of getting the desired outcome is 0.5.  \n",
    "\n",
    "\n",
    "\n",
    " \n",
    " \n",
    "\n",
    " \n",
    "\n",
    "\n"
   ]
  },
  {
   "cell_type": "markdown",
   "id": "acc81939",
   "metadata": {},
   "source": [
    "![flipcoin1.PNG](https://s3.us-east-1.amazonaws.com/static2.simplilearn.com/lms/testpaper_images/ADSP/Advanced_Statistics/Probimages/flipcoin1.PNG)"
   ]
  },
  {
   "cell_type": "markdown",
   "id": "975b0a86",
   "metadata": {},
   "source": [
    "<b> 2. Election forecasts: </b> Many political analysts use the results of exit polls to predict whether a certain political party will come into power.  \n",
    "\n",
    "![election.PNG](https://s3.us-east-1.amazonaws.com/static2.simplilearn.com/lms/testpaper_images/ADSP/Advanced_Statistics/Probimages/election.PNG)\n",
    "\n",
    " \n"
   ]
  },
  {
   "cell_type": "markdown",
   "id": "aa6cfbc4",
   "metadata": {},
   "source": [
    "<b> 3. Weather forecasting: </b> Before planning for an outing or a picnic, we always check the weather forecast \n",
    "    to find out the probability whether rain may occur. Weather forecasters  use specific tools and techniques \n",
    "    to predict the weather. They do this by looking at all the other historical databases of the days, which \n",
    "    have similar characteristics of temperature, humidity, pressure, etc. \n",
    "    \n",
    " ![whetherforec.PNG](https://s3.us-east-1.amazonaws.com/static2.simplilearn.com/lms/testpaper_images/ADSP/Advanced_Statistics/Probimages/whetherforec.PNG)"
   ]
  },
  {
   "cell_type": "markdown",
   "id": "cde8a3a6",
   "metadata": {
    "id": "cde8a3a6"
   },
   "source": [
    "# Probability Distribution"
   ]
  },
  {
   "cell_type": "markdown",
   "id": "1e039ec0",
   "metadata": {
    "id": "1e039ec0"
   },
   "source": [
    "\n",
    "\n",
    "Probability distributions are statistical functions that describe the likelihood of obtaining possible values \n",
    "that a random variable can take.\n",
    "\n",
    "![probdist.PNG](https://s3.us-east-1.amazonaws.com/static2.simplilearn.com/lms/testpaper_images/ADSP/Advanced_Statistics/Probimages/probdist.PNG)\n",
    " \n"
   ]
  },
  {
   "cell_type": "markdown",
   "id": "c340555a",
   "metadata": {
    "id": "c340555a"
   },
   "source": [
    "<b> The notation used by statisticians to describe probabilities is as given below:</b>  \n",
    "\n",
    "p(x) = the likelihood that a random variable takes a specific value of x. "
   ]
  },
  {
   "cell_type": "markdown",
   "id": "b67c78c2",
   "metadata": {
    "id": "b67c78c2"
   },
   "source": [
    "## Categories of Variables"
   ]
  },
  {
   "cell_type": "markdown",
   "id": "fa4f0639",
   "metadata": {
    "id": "fa4f0639"
   },
   "source": [
    "\n",
    "\n",
    "There are two types of variables for which probability distributions are defined:\n",
    "\n",
    "![discretecontinuous.PNG](https://s3.us-east-1.amazonaws.com/static2.simplilearn.com/lms/testpaper_images/ADSP/Advanced_Statistics/Probimages/discretecontinuous.PNG)\n",
    "\n",
    "\n",
    " \n",
    " \n",
    " \n"
   ]
  },
  {
   "cell_type": "markdown",
   "id": "2e62742e",
   "metadata": {},
   "source": [
    "\n",
    "<b>Similarly, for a single random variable, statisticians divide distributions into the following two types:</b> \n",
    "\n",
    "\n",
    "![singlerandom.PNG](https://s3.us-east-1.amazonaws.com/static2.simplilearn.com/lms/testpaper_images/ADSP/Advanced_Statistics/Probimages/singlerandom.PNG)\n",
    "\n",
    "The probability distribution indicates how the total probability 1 or 100% is distributed across all values. Each \n",
    "value taken by a random variable clearly constitutes an event. \n",
    "\n",
    "Consider the outcome of throwing a fair dice. Its probability distribution is: "
   ]
  },
  {
   "cell_type": "markdown",
   "id": "80117347",
   "metadata": {},
   "source": [
    "![outcomeice.PNG](https://s3.us-east-1.amazonaws.com/static2.simplilearn.com/lms/testpaper_images/ADSP/Advanced_Statistics/Probimages/outcomeice.PNG)"
   ]
  },
  {
   "cell_type": "markdown",
   "id": "-fl8OiaFpR3P",
   "metadata": {
    "id": "-fl8OiaFpR3P"
   },
   "source": [
    "Binomial Distribution and the Poisson Distribution are the two commonly used discrete probability distributions. These\n",
    "are based on the principle of Bernoulli trials or processes. "
   ]
  },
  {
   "cell_type": "markdown",
   "id": "bcc6a660",
   "metadata": {},
   "source": [
    "![distibution.PNG](https://s3.us-east-1.amazonaws.com/static2.simplilearn.com/lms/testpaper_images/ADSP/Advanced_Statistics/Probimages/distibution.PNG)"
   ]
  },
  {
   "cell_type": "markdown",
   "id": "2749eeb5",
   "metadata": {
    "id": "2749eeb5"
   },
   "source": [
    "### Probability Distribution: Binomial Distribution"
   ]
  },
  {
   "cell_type": "markdown",
   "id": "639a7cf9",
   "metadata": {
    "id": "639a7cf9"
   },
   "source": [
    "A binomial distribution indicates the probability of a SUCCESS or FAILURE of a survey that is repeated multiple times. The binomial is a type of distribution that has two possible outcomes.\n",
    "\n",
    "<b>Binomial Distribution Example:</b>\n",
    "\n",
    "Let X denote a random variable (r.v.) that indicates the number of times an event occurs in ‘n’ Bernoulli \n",
    "trials with probability p of occurrence in trial. Then, X is said to follow a binomial distribution with \n",
    "parameters n and p where p is referred to as probability parameter.\n",
    "\n",
    "![binomial.PNG](https://s3.us-east-1.amazonaws.com/static2.simplilearn.com/lms/testpaper_images/ADSP/Advanced_Statistics/Probimages/binomial.PNG)\n",
    "\n"
   ]
  },
  {
   "cell_type": "markdown",
   "id": "4ce3768e",
   "metadata": {},
   "source": [
    "If p is the probability of occurrence in a trial, the probability of non-occurrence is q= 1-p which is also a constant. \n",
    "So, when X follows the binomial with parameters n and p, X can take values 0, 1....r...n. \n",
    "\n",
    "![qn.PNG](https://s3.us-east-1.amazonaws.com/static2.simplilearn.com/lms/testpaper_images/ADSP/Advanced_Statistics/Probimages/qn.PNG)\n",
    "Then, \n",
    "\n",
    "P{ X = 0}= q*q....q..q =${q^n}$ as outcomes are independent.\n",
    "\n",
    "This follows multiplication theorem of probability. \n",
    "\n",
    "Similarly, "
   ]
  },
  {
   "cell_type": "markdown",
   "id": "99f6254a",
   "metadata": {
    "id": "99f6254a"
   },
   "source": [
    "\n",
    "\n",
    "![equation.PNG](https://s3.us-east-1.amazonaws.com/static2.simplilearn.com/lms/testpaper_images/ADSP/Advanced_Statistics/Probimages/equation.PNG)\n"
   ]
  },
  {
   "cell_type": "markdown",
   "id": "4573db6c",
   "metadata": {
    "id": "4573db6c"
   },
   "source": [
    "<b>Note: The probability values can be obtained from statistical tables or using software.</b> \n",
    "\n",
    "\n",
    "\n"
   ]
  },
  {
   "cell_type": "markdown",
   "id": "afd6f55d",
   "metadata": {
    "id": "afd6f55d"
   },
   "source": [
    "<b> Example to illustrate a real-world problem of a spare parts manufacturer:</b>\n",
    "\n",
    "If the probability of a machine producing a defective piece is 0.05, What is the probability of finding an inspection sample of size n has four or more defectives?\n",
    "\n",
    "<b>Solution</b>:Let X denote the random variable indicating the number of defectives in the inspection sample of size 10.\n",
    "    \n",
    "Assuming that the process is Bernoulli, X follows a Binomial with parameters n= 10 and p = 0.1\n",
    "    \n",
    "![binomialexample.PNG](https://s3.us-east-1.amazonaws.com/static2.simplilearn.com/lms/testpaper_images/ADSP/Advanced_Statistics/Probimages/binomialexample.PNG)\n",
    "\n",
    "The probabilities of X taking different values are as follows:\n",
    "        \n",
    "        \n"
   ]
  },
  {
   "cell_type": "markdown",
   "id": "b32796f9",
   "metadata": {},
   "source": [
    "![tablewithequations.PNG](https://s3.us-east-1.amazonaws.com/static2.simplilearn.com/lms/testpaper_images/ADSP/Advanced_Statistics/Probimages/tablewithequations.PNG)"
   ]
  },
  {
   "cell_type": "markdown",
   "id": "14bddf2a",
   "metadata": {
    "id": "14bddf2a"
   },
   "source": [
    "Probability that the inspection sample has four or more defectives is equal to Probability of  X is greater than\n",
    "or equal to 4\n",
    " \n",
    "<b> Pr {X ≥ 4} = 1 </b> Probability that the inspection sample has three or less defectives which is equal to \n",
    "Probability of X is less than or equal 3\n",
    "\n",
    "<b> Pr{ X≤ 3} = 1- 0.6496 = 0.3504</b>\n",
    "\n",
    "<b>Note: The result justifies the assumption that the process is Bernoulli.</b>\n",
    "\n"
   ]
  },
  {
   "cell_type": "markdown",
   "id": "0615d871",
   "metadata": {},
   "source": [
    "# Binomial Distribution Using Python"
   ]
  },
  {
   "cell_type": "code",
   "execution_count": 1,
   "id": "7a2f936d",
   "metadata": {},
   "outputs": [
    {
     "name": "stderr",
     "output_type": "stream",
     "text": [
      "/usr/local/lib/python3.7/site-packages/seaborn/distributions.py:2619: FutureWarning: `distplot` is a deprecated function and will be removed in a future version. Please adapt your code to use either `displot` (a figure-level function with similar flexibility) or `histplot` (an axes-level function for histograms).\n",
      "  warnings.warn(msg, FutureWarning)\n"
     ]
    },
    {
     "data": {
      "text/plain": [
       "[Text(0.5, 0, 'Binomial'), Text(0, 0.5, 'Frequency')]"
      ]
     },
     "execution_count": 1,
     "metadata": {},
     "output_type": "execute_result"
    },
    {
     "data": {
      "image/png": "[encoded data removed]",
      "text/plain": [
       "<Figure size 432x288 with 1 Axes>"
      ]
     },
     "metadata": {
      "needs_background": "light"
     },
     "output_type": "display_data"
    }
   ],
   "source": [
    "from scipy.stats import binom\n",
    "import seaborn as sb\n",
    "\n",
    "binom.rvs(size=10,n=20,p=0.8)\n",
    "\n",
    "data_binom = binom.rvs(n=20,p=0.8,loc=0,size=1000)\n",
    "ax = sb.distplot(data_binom,\n",
    "                  kde=True,\n",
    "                  color='green',\n",
    "                  hist_kws={\"linewidth\": 22,'alpha':1})\n",
    "ax.set(xlabel='Binomial', ylabel='Frequency')"
   ]
  },
  {
   "cell_type": "markdown",
   "id": "5c9d70ba",
   "metadata": {},
   "source": [
    "# Use Case: Determine the Probability of r Successes"
   ]
  },
  {
   "cell_type": "markdown",
   "id": "2be81d4e",
   "metadata": {},
   "source": [
    "## Problem Statement:"
   ]
  },
  {
   "cell_type": "markdown",
   "id": "92a40fc2",
   "metadata": {},
   "source": [
    "Consider a random experiment of tossing a biased coin 6 times where the probability of getting a head is 0.6. If ‘getting\n",
    "a head’ is considered as ‘success’, then the binomial distribution table will contain the probability of r successes \n",
    "for each possible value of r."
   ]
  },
  {
   "cell_type": "markdown",
   "id": "ce426f74",
   "metadata": {},
   "source": [
    "![binomialexampletable.PNG](https://s3.us-east-1.amazonaws.com/static2.simplilearn.com/lms/testpaper_images/ADSP/Advanced_Statistics/Probability/binomialexampletable.PNG)"
   ]
  },
  {
   "cell_type": "markdown",
   "id": "97ddb7c1",
   "metadata": {},
   "source": [
    " Calculate a binomial distribution using the values of n and p to check if the distribution is normal."
   ]
  },
  {
   "cell_type": "markdown",
   "id": "18426484",
   "metadata": {},
   "source": [
    "## Solution:"
   ]
  },
  {
   "cell_type": "markdown",
   "id": "77536f0a",
   "metadata": {},
   "source": [
    "This distribution has a mean equal to np and variance of np(1-p). \n",
    "\n",
    "Here, scipy.stats module contains various functions for statistical calculations and tests. The stats() function of \n",
    "the scipy.stats.binom module can be used to calculate a binomial distribution using the values of n and p."
   ]
  },
  {
   "cell_type": "code",
   "execution_count": 2,
   "id": "6dd4fe13",
   "metadata": {},
   "outputs": [
    {
     "name": "stdout",
     "output_type": "stream",
     "text": [
      "r\tp(r)\n",
      "0\t0.0040960000000000015\n",
      "1\t0.03686400000000002\n",
      "2\t0.1382400000000001\n",
      "3\t0.2764800000000001\n",
      "4\t0.3110400000000001\n",
      "5\t0.1866240000000001\n",
      "6\t0.04665599999999999\n",
      "mean = 3.5999999999999996\n",
      "variance = 1.44\n"
     ]
    }
   ],
   "source": [
    "from scipy.stats import binom\n",
    "# Setting the values of n and p\n",
    "n = 6\n",
    "p = 0.6\n",
    "# Defining the list of r values\n",
    "r_values = list(range(n + 1))\n",
    "# Obtaining the mean and variance\n",
    "mean, var = binom.stats(n, p)\n",
    "# List of pmf values\n",
    "dist = [binom.pmf(r, n, p) for r in r_values ]\n",
    "# Printing the table\n",
    "print(\"r\\tp(r)\")\n",
    "for i in range(n + 1):\n",
    "    print(str(r_values[i]) + \"\\t\" + str(dist[i]))\n",
    "# Printing mean and variance\n",
    "print(\"mean = \"+str(mean))\n",
    "print(\"variance = \"+str(var))\n"
   ]
  },
  {
   "cell_type": "markdown",
   "id": "96b28636",
   "metadata": {},
   "source": [
    "scipy.stats.binom.pmf function is used to obtain the probability mass function for a certain value of r, n, and p. \n",
    "We can obtain the distribution by passing all possible values of r(0 to n)."
   ]
  },
  {
   "cell_type": "code",
   "execution_count": 3,
   "id": "2b44c6b6",
   "metadata": {},
   "outputs": [
    {
     "data": {
      "image/png": "[encoded data removed]",
      "text/plain": [
       "<Figure size 432x288 with 1 Axes>"
      ]
     },
     "metadata": {
      "needs_background": "light"
     },
     "output_type": "display_data"
    }
   ],
   "source": [
    "\n",
    "\n",
    "from scipy.stats import binom\n",
    "import matplotlib.pyplot as plt\n",
    "# Setting the values of n and p\n",
    "n = 6\n",
    "p = 0.6\n",
    "# Defining the list of r values\n",
    "r_values = list(range(n + 1))\n",
    "# List of pmf values\n",
    "dist = [binom.pmf(r, n, p) for r in r_values ]\n",
    "# Plotting the graph \n",
    "plt.bar(r_values, dist)\n",
    "plt.show()"
   ]
  },
  {
   "cell_type": "markdown",
   "id": "0e1c881e",
   "metadata": {},
   "source": [
    "As we can see that the distribution is normal."
   ]
  },
  {
   "cell_type": "markdown",
   "id": "2c7e8478",
   "metadata": {
    "id": "2c7e8478"
   },
   "source": [
    "### Probability Distribution: Poisson Distribution"
   ]
  },
  {
   "cell_type": "markdown",
   "id": "111bdbba",
   "metadata": {
    "id": "111bdbba"
   },
   "source": [
    "Poisson distribution measures the probability of an event(s) occurring over a specified period.It can be used only\n",
    "when the opportunities for the occurrence of the outcome is a very large value and the probability of occurrence \n",
    "of the outcome during an opportunity is very low. \n",
    "\n",
    "If X denotes the random variable indicating the number of occurrences which follows a Poisson distribution, the \n",
    "probabilities of X taking a given value (0, 1, 2 .....) depends on its expected value λ (lambda). λ is the parameter\n",
    "of the distribution. \n",
    "\n",
    "![poisson.PNG](https://s3.us-east-1.amazonaws.com/static2.simplilearn.com/lms/testpaper_images/ADSP/Advanced_Statistics/Probimages/poisson.PNG)\n",
    "\n",
    "For a given value of λ, the probabilities can be obtained from tables or software.\n",
    "\n",
    "\n",
    "\n",
    "        \n"
   ]
  },
  {
   "cell_type": "markdown",
   "id": "2337fe42",
   "metadata": {},
   "source": [
    "<b> When X follows a Poisson distribution with parameter λ, the following scenarios are true:</b>\n",
    "\n",
    "![poissonparameter.PNG](https://s3.us-east-1.amazonaws.com/static2.simplilearn.com/lms/testpaper_images/ADSP/Advanced_Statistics/Probimages/poissonparameter.PNG)"
   ]
  },
  {
   "cell_type": "markdown",
   "id": "9a1f886d",
   "metadata": {
    "id": "9a1f886d"
   },
   "source": [
    "<b> Consider a real-world problem:</b>\n",
    "\n",
    "The number of spares required for any component in a machine follows a Poisson distribution with λ = 2. \n",
    "An enterprise using this machine must arrive at the number of spares of this component needed so that the probability\n",
    "of a stock out is at most 0.06. How can we determine this number?\n",
    "\n",
    "\n",
    "\n",
    "\n"
   ]
  },
  {
   "cell_type": "markdown",
   "id": "a09efb2f",
   "metadata": {},
   "source": [
    "![poissontable.PNG](https://s3.us-east-1.amazonaws.com/static2.simplilearn.com/lms/testpaper_images/ADSP/Advanced_Statistics/Probimages/poissontable.PNG)"
   ]
  },
  {
   "cell_type": "markdown",
   "id": "48805f61",
   "metadata": {},
   "source": [
    "![poissonexample1.PNG](https://s3.us-east-1.amazonaws.com/static2.simplilearn.com/lms/testpaper_images/ADSP/Advanced_Statistics/Probimages/poissonexample1.PNG)"
   ]
  },
  {
   "cell_type": "markdown",
   "id": "121fb7b1",
   "metadata": {},
   "source": [
    "![poissonexample2.PNG](https://s3.us-east-1.amazonaws.com/static2.simplilearn.com/lms/testpaper_images/ADSP/Advanced_Statistics/Probimages/poissonexample2.PNG)"
   ]
  },
  {
   "cell_type": "markdown",
   "id": "51fa3b45",
   "metadata": {},
   "source": [
    "![poissonexample3.PNG](https://s3.us-east-1.amazonaws.com/static2.simplilearn.com/lms/testpaper_images/ADSP/Advanced_Statistics/Probimages/poissonexample3.PNG)"
   ]
  },
  {
   "cell_type": "markdown",
   "id": "aaa9c664",
   "metadata": {
    "id": "aaa9c664"
   },
   "source": [
    "<b> Note:The stock out probability for a given value = 1 – Cumulative value</b>\n",
    "\n",
    "As we can see that when fewer spare units are stocked, the stock out probabilities are high. \n",
    "\n",
    "when 3 spares are stocked, the stock out probability is 0.1429. The stock out probability when 4 spare parts are stocked \n",
    "is 0.0527. Since the stock out probability should not exceed 0.06, the firm should stock 4 units. \n",
    "\n",
    "The binomial can sometimes be approximated by a Poisson theorem.  \n",
    "\n",
    "![binomailas.PNG](https://s3.us-east-1.amazonaws.com/static2.simplilearn.com/lms/testpaper_images/ADSP/Advanced_Statistics/Probimages/binomailas.PNG)\n",
    "\n",
    "\n",
    "This is called Poisson distribution. \n"
   ]
  },
  {
   "cell_type": "markdown",
   "id": "1b91a25f",
   "metadata": {},
   "source": [
    "# Poisson Distribution Using Python"
   ]
  },
  {
   "cell_type": "code",
   "execution_count": 3,
   "id": "b019c13d",
   "metadata": {},
   "outputs": [
    {
     "name": "stderr",
     "output_type": "stream",
     "text": [
      "C:\\Users\\alpika.gupta\\Anaconda3\\lib\\site-packages\\seaborn\\distributions.py:2619: FutureWarning: `distplot` is a deprecated function and will be removed in a future version. Please adapt your code to use either `displot` (a figure-level function with similar flexibility) or `histplot` (an axes-level function for histograms).\n",
      "  warnings.warn(msg, FutureWarning)\n"
     ]
    },
    {
     "data": {
      "text/plain": [
       "[Text(0.5, 0, 'Poisson'), Text(0, 0.5, 'Frequency')]"
      ]
     },
     "execution_count": 3,
     "metadata": {},
     "output_type": "execute_result"
    },
    {
     "data": {
      "image/png": "[encoded data removed]",
      "text/plain": [
       "<Figure size 432x288 with 1 Axes>"
      ]
     },
     "metadata": {
      "needs_background": "light"
     },
     "output_type": "display_data"
    }
   ],
   "source": [
    "from scipy.stats import poisson\n",
    "import seaborn as sb\n",
    "\n",
    "data_binom = poisson.rvs(mu=4, size=10000)\n",
    "ax = sb.distplot(data_binom,\n",
    "                  kde=True,\n",
    "                  color='green',\n",
    "                  hist_kws={\"linewidth\": 25,'alpha':1})\n",
    "ax.set(xlabel='Poisson', ylabel='Frequency')"
   ]
  },
  {
   "cell_type": "markdown",
   "id": "60c74227",
   "metadata": {},
   "source": [
    "# Use Case: To Determine the Probability of Restaurants"
   ]
  },
  {
   "cell_type": "markdown",
   "id": "3670632c",
   "metadata": {},
   "source": [
    "## Problem Statement:\n",
    "    "
   ]
  },
  {
   "cell_type": "markdown",
   "id": "d943cace",
   "metadata": {},
   "source": [
    "Suppose you are going for a long drive. The rate of occurrences of good restaurants in a range of 10 miles is 2.\n",
    "In other words, the mean number of occurrences of restaurants in a range of 10 miles is 2. What is the probability \n",
    "that 0, 1, 2, 3, 4, or 5 restaurants will show up in the next 10 miles."
   ]
  },
  {
   "cell_type": "markdown",
   "id": "817d6af9",
   "metadata": {},
   "source": [
    "## Solution:"
   ]
  },
  {
   "cell_type": "markdown",
   "id": "c8d0476e",
   "metadata": {},
   "source": [
    "The probability of the different number of restaurants ranging from 0 to 5 that one could find within 10 miles given \n",
    "the mean number of occurrences of the restaurant in 10 miles is 2.\n"
   ]
  },
  {
   "cell_type": "code",
   "execution_count": 2,
   "id": "26e6dc75",
   "metadata": {},
   "outputs": [
    {
     "data": {
      "text/plain": [
       "<matplotlib.collections.LineCollection at 0x7f4ed4340450>"
      ]
     },
     "execution_count": 2,
     "metadata": {},
     "output_type": "execute_result"
    },
    {
     "data": {
      "image/png": "[encoded data removed]",
      "text/plain": [
       "<Figure size 576x432 with 1 Axes>"
      ]
     },
     "metadata": {
      "needs_background": "light"
     },
     "output_type": "display_data"
    }
   ],
   "source": [
    "\n",
    "# Scipy.stats poisson class is used along with pmf method to calculate the value of probabilities\n",
    "from scipy.stats import poisson\n",
    "import matplotlib.pyplot as plt\n",
    "#\n",
    "# Random variable representing number of restaurants\n",
    "# Mean number of occurrences of restaurants in 10 miles is 2\n",
    "#\n",
    "X = [0, 1, 2, 3, 4, 5]\n",
    "lmbda = 2\n",
    "\n",
    "# Probability values\n",
    "#\n",
    "poisson_pd = poisson.pmf(X, lmbda)\n",
    "#\n",
    "# Plot the probability distribution\n",
    "#\n",
    "fig, ax = plt.subplots(1, 1, figsize=(8, 6))\n",
    "ax.plot(X, poisson_pd, 'bo', ms=8, label='poisson pmf')\n",
    "plt.ylabel(\"Probability\", fontsize=\"18\")\n",
    "plt.xlabel(\"X = No. of Restaurants\", fontsize=\"18\")\n",
    "plt.title(\"Poisson Distribution - No. of Restaurants Vs Probability\", fontsize=\"18\")\n",
    "ax.vlines(X, 0, poisson_pd, colors='b', lw=5, alpha=0.5)\n"
   ]
  },
  {
   "cell_type": "markdown",
   "id": "79802ba4",
   "metadata": {},
   "source": [
    "As we can see that the Poisson Probability Distribution X indicates the number of Restaurants in 10 miles."
   ]
  },
  {
   "cell_type": "markdown",
   "id": "7c54426d",
   "metadata": {
    "id": "7c54426d"
   },
   "source": [
    "### Probability Distribution: Normal Distribution"
   ]
  },
  {
   "cell_type": "markdown",
   "id": "14171026",
   "metadata": {
    "id": "14171026"
   },
   "source": [
    "Normal distribution extends between ( minus infinity to plus infinity) -∞ to +∞. The distribution is completely \n",
    "specified by its mean μ and standard deviation σ. The value of population mean μ can be positive, negative, or zero. \n",
    "\n",
    "![meanvale.PNG](https://s3.us-east-1.amazonaws.com/static2.simplilearn.com/lms/testpaper_images/ADSP/Advanced_Statistics/Probimages/meanvale.PNG)\n",
    "\n",
    "\n",
    "    \n"
   ]
  },
  {
   "cell_type": "markdown",
   "id": "9d826a09",
   "metadata": {},
   "source": [
    "<b> The properties of the Normal Distribution are:</b>\n",
    " ![ndproperty.PNG](https://s3.us-east-1.amazonaws.com/static2.simplilearn.com/lms/testpaper_images/ADSP/Advanced_Statistics/Probimages/ndproperty.PNG)   \n",
    "\n",
    "\n",
    "\n",
    "\n",
    "\n",
    "<b>Standard Normal Distribution</b>\n",
    "\n",
    "The normal distribution with mean 0 and standard deviation 1 is called the standard normal distribution.\n",
    "\n"
   ]
  },
  {
   "cell_type": "markdown",
   "id": "1b899f47",
   "metadata": {},
   "source": [
    "![sd.PNG](https://s3.us-east-1.amazonaws.com/static2.simplilearn.com/lms/testpaper_images/ADSP/Advanced_Statistics/Probimages/sd.PNG)"
   ]
  },
  {
   "cell_type": "markdown",
   "id": "7764d022",
   "metadata": {
    "id": "7764d022"
   },
   "source": [
    "Statistical tables are used to get probabilities for Z i.e., the normal distribution with zero mean and \n",
    "standard deviation unity. For other values of mean and standard deviation, probabilities are obtained using \n",
    "the transformation.\n",
    "                    \n",
    "                                                  Z= (X – μ)/ σ\n",
    "\n",
    "                    \n",
    "                    \n",
    "                    "
   ]
  },
  {
   "cell_type": "markdown",
   "id": "22ff6dec",
   "metadata": {},
   "source": [
    "### <b>Example:</b>"
   ]
  },
  {
   "cell_type": "markdown",
   "id": "5abd42ae",
   "metadata": {
    "id": "5abd42ae"
   },
   "source": [
    "\n",
    "\n",
    "A Factory Outlet uses a filling machine for low-pressure oxygen shells. It has been established that the weights of \n",
    "filled cylinders in grams follow a normal distribution with  Population Mean μ = 1.433 and \n",
    "Standard Deviation σ = 0.033. The specification limits are 1.460+- 0.085. \n",
    "\n",
    "<b>How can we determine the probability that a cylinder will meet specifications?</b> \n",
    "\n"
   ]
  },
  {
   "cell_type": "markdown",
   "id": "8fa1419f",
   "metadata": {},
   "source": [
    "<b>Solution:</b> Let the random variable X denote the weight of a filled in cylinder (grams).\n",
    "\n",
    "![specificationlimits.PNG](https://s3.us-east-1.amazonaws.com/static2.simplilearn.com/lms/testpaper_images/ADSP/Advanced_Statistics/Probimages/specificationlimits.PNG)"
   ]
  },
  {
   "cell_type": "markdown",
   "id": "e1039220",
   "metadata": {},
   "source": [
    "Probability that a cylinder meets specification limits is shown below:\n",
    "\n",
    "![specification2.PNG](https://s3.us-east-1.amazonaws.com/static2.simplilearn.com/lms/testpaper_images/ADSP/Advanced_Statistics/Probimages/specification2.PNG)"
   ]
  },
  {
   "cell_type": "markdown",
   "id": "79d06d2b",
   "metadata": {},
   "source": [
    "![specification3.PNG](https://s3.us-east-1.amazonaws.com/static2.simplilearn.com/lms/testpaper_images/ADSP/Advanced_Statistics/Probimages/specification3.PNG)"
   ]
  },
  {
   "cell_type": "markdown",
   "id": "0829e903",
   "metadata": {
    "id": "0829e903"
   },
   "source": [
    "### Probability Distribution: Uniform Distribution "
   ]
  },
  {
   "cell_type": "markdown",
   "id": "15ee186c",
   "metadata": {
    "id": "15ee186c"
   },
   "source": [
    "A random variable X is said to follow a Uniform Distribution in the range [a, b] if the probability of lying in\n",
    "the range [c, d] is directly proportional to the length of the interval. \n",
    "\n",
    "Hence, \n",
    "                                         Pr {c < X < d} = (d-c)/(b-a)\n",
    "\n",
    "Probability of c less than X is less than d is equal to d minus c divided by b minus a\n",
    "\n",
    "The values a, b, c and d are all finite. But, they can be positive, negative, or zero.\n",
    "\n",
    "\n"
   ]
  },
  {
   "cell_type": "markdown",
   "id": "709aed13",
   "metadata": {
    "id": "709aed13"
   },
   "source": [
    "\n",
    "Consider a large set of random numbers drawn from a random number table or from a computer (for instance, EXCEL). \n",
    "If a decimal is positioned at the start, the random numbers constitute a random sample from a uniform distribution\n",
    "with parameters 0 and 1.             \n",
    "\n",
    "Thus, the proportion of values lying between c and d  where 0 is less than or equal to c \n",
    "which is less than or equal to d which is less than or equal to 1 (0 ≤ c ≤ d ≤1) would be approximately d-c. These\n",
    "values can be used to obtain random numbers from other distributions besides the uniform distribution. Random numbers \n",
    "are useful in several applications."
   ]
  },
  {
   "cell_type": "markdown",
   "id": "29726039",
   "metadata": {},
   "source": [
    "To calculate probabilities related to the uniform distribution in Python we can use the scipy.stats.uniform() function,\n",
    "which uses the following basic syntax:\n",
    "\n",
    "scipy.stats.uniform(x, loc, scale)\n",
    "\n",
    "where:\n",
    "    \n",
    "    x:The value of the uniform distribution\n",
    "    loc:The minimum possible value\n",
    "    loc + scale: The maximum possible value"
   ]
  },
  {
   "cell_type": "markdown",
   "id": "f7ea306c",
   "metadata": {},
   "source": [
    "# Example:"
   ]
  },
  {
   "cell_type": "markdown",
   "id": "2660ef44",
   "metadata": {},
   "source": [
    "Suppose a bus arrives at a stop every 20 minutes. What is the probability that the bus will arrive in 8 minutes or less\n",
    "if you arrive at the bus stop?"
   ]
  },
  {
   "cell_type": "code",
   "execution_count": 1,
   "id": "065c3238",
   "metadata": {},
   "outputs": [
    {
     "data": {
      "text/plain": [
       "0.4"
      ]
     },
     "execution_count": 1,
     "metadata": {},
     "output_type": "execute_result"
    }
   ],
   "source": [
    "from scipy.stats import uniform\n",
    "\n",
    "# Calculate uniform probability\n",
    "uniform.cdf(x=8, loc=0, scale=20) - uniform.cdf(x=0, loc=0, scale=20)\n"
   ]
  },
  {
   "cell_type": "markdown",
   "id": "28bfa8f0",
   "metadata": {},
   "source": [
    "The probability that the bus arrives in 8 minutes or less is 0.4."
   ]
  },
  {
   "cell_type": "markdown",
   "id": "c2d36800",
   "metadata": {
    "id": "c2d36800"
   },
   "source": [
    "### Probability Distribution: Bernoulli Distribution"
   ]
  },
  {
   "cell_type": "markdown",
   "id": "f8310d56",
   "metadata": {
    "id": "f8310d56"
   },
   "source": [
    "Bernoulli distribution is a discrete probability distribution which takes up only two distinct values: 1 and 0\n",
    "\n",
    "1 indicates success\n",
    "\n",
    "0 indicates failure \n",
    "\n",
    "\n",
    "<b>Example 1:</b>\n",
    "\n",
    "A coin toss is a variable that follows Bernoulli distribution. It can be head or tail.\n",
    "\n",
    "![cointoss.PNG](https://s3.us-east-1.amazonaws.com/static2.simplilearn.com/lms/testpaper_images/ADSP/Advanced_Statistics/Probimages/cointoss.PNG)\n",
    "\n",
    "A head or a tail indicate success or failure. As a result, both of these probability range from 0 to 1.\n",
    "\n",
    "\n"
   ]
  },
  {
   "cell_type": "markdown",
   "id": "cf71818d",
   "metadata": {},
   "source": [
    "If probability of success and failure is taken as p and q respectively then:\n",
    "\n",
    "![probsuccfail.PNG](https://s3.us-east-1.amazonaws.com/static2.simplilearn.com/lms/testpaper_images/ADSP/Advanced_Statistics/Probimages/probsuccfail.PNG)\n",
    "\n"
   ]
  },
  {
   "cell_type": "markdown",
   "id": "133809c6",
   "metadata": {},
   "source": [
    "\n",
    "\n",
    "Let X be a Bernoulli random variable then:\n",
    "    \n",
    "![binomialdistbino.PNG](https://s3.us-east-1.amazonaws.com/static2.simplilearn.com/lms/testpaper_images/ADSP/Advanced_Statistics/Probimages/binomialdistbino.PNG)\n",
    "\n"
   ]
  },
  {
   "cell_type": "markdown",
   "id": "96ed0f5f",
   "metadata": {},
   "source": [
    "\n",
    "\n",
    "Let probability mass function be f and and possible outcomes for the distribution be k, then:\n",
    "\n",
    "    \n",
    "![berequation.PNG](https://s3.us-east-1.amazonaws.com/static2.simplilearn.com/lms/testpaper_images/ADSP/Advanced_Statistics/Probimages/berequation.PNG)\n"
   ]
  },
  {
   "cell_type": "markdown",
   "id": "8eee881c",
   "metadata": {},
   "source": [
    "\n",
    "\n",
    "\n",
    "Next,Cumulative distribution function is:\n",
    "\n",
    "![cdfpq.PNG](https://s3.us-east-1.amazonaws.com/static2.simplilearn.com/lms/testpaper_images/ADSP/Advanced_Statistics/Probimages/cdfpq.PNG)\n",
    "\n",
    "\n",
    "            \n",
    "F(X) is equal to 0 if x is less than 0; 1 minus p if x lies between 0 and 1 and 1 if x is greater than or equal to 1. \n",
    "\n",
    "\n",
    "\n",
    "\n",
    "\n"
   ]
  },
  {
   "cell_type": "markdown",
   "id": "2699d229",
   "metadata": {},
   "source": [
    "The mean value of this Bernoulli random variable is:![meanbernoulli.PNG](https://s3.us-east-1.amazonaws.com/static2.simplilearn.com/lms/testpaper_images/ADSP/Advanced_Statistics/Probimages/meanbernoulli.PNG) "
   ]
  },
  {
   "cell_type": "markdown",
   "id": "9a13114b",
   "metadata": {},
   "source": [
    "\n",
    "\n",
    "Variance is:\n",
    "\n",
    "\n",
    "![bernoullirandom.PNG](https://s3.us-east-1.amazonaws.com/static2.simplilearn.com/lms/testpaper_images/ADSP/Advanced_Statistics/Probimages/bernoullirandom.PNG)\n",
    "\n",
    "\n",
    "\n",
    "\n",
    "\n"
   ]
  },
  {
   "cell_type": "markdown",
   "id": "43b36274",
   "metadata": {
    "id": "43b36274"
   },
   "source": [
    "\n",
    "<b>Example 2:</b>\n",
    "\n",
    "<b>When a dice is rolled, what will be the probability of getting 1?</b>\n",
    "\n",
    "![exampledice.PNG](https://s3.us-east-1.amazonaws.com/static2.simplilearn.com/lms/testpaper_images/ADSP/Advanced_Statistics/Probimages/exampledice.PNG)\n",
    "\n",
    "In this example, getting 1 is success and all other outcomes are failure.\n",
    "\n",
    "The probability of getting 1 is ⅙. So p=⅙ \n",
    "\n",
    "Probability of failure q=⅚ \n",
    "\n",
    "So as explained above, mean of this distribution is p= ⅙\n",
    "\n",
    "And variance is pq = ⅙* ⅚ = 5/36"
   ]
  },
  {
   "cell_type": "markdown",
   "id": "6c212772",
   "metadata": {},
   "source": [
    "<b> Note:</b>  scipy.stats.bernoulli() is a Bernoulli discrete random variable. It is inherited from the of generic methods as an instance of the rv_discrete class. It completes the methods with details specific for this particular distribution."
   ]
  },
  {
   "cell_type": "markdown",
   "id": "1c299b14",
   "metadata": {},
   "source": [
    "## Python code to implement histograms to obtain a plot for the probability distribution curve"
   ]
  },
  {
   "cell_type": "code",
   "execution_count": 4,
   "id": "896f2283",
   "metadata": {},
   "outputs": [
    {
     "name": "stderr",
     "output_type": "stream",
     "text": [
      "C:\\Users\\alpika.gupta\\Anaconda3\\lib\\site-packages\\seaborn\\distributions.py:2619: FutureWarning: `distplot` is a deprecated function and will be removed in a future version. Please adapt your code to use either `displot` (a figure-level function with similar flexibility) or `histplot` (an axes-level function for histograms).\n",
      "  warnings.warn(msg, FutureWarning)\n"
     ]
    },
    {
     "data": {
      "text/plain": [
       "[Text(0.5, 0, 'Bernouli'), Text(0, 0.5, 'Frequency')]"
      ]
     },
     "execution_count": 4,
     "metadata": {},
     "output_type": "execute_result"
    },
    {
     "data": {
      "image/png": "[encoded data removed]",
      "text/plain": [
       "<Figure size 432x288 with 1 Axes>"
      ]
     },
     "metadata": {
      "needs_background": "light"
     },
     "output_type": "display_data"
    }
   ],
   "source": [
    "from scipy.stats import bernoulli\n",
    "import seaborn as sb\n",
    "\n",
    "data_bern = bernoulli.rvs(size=1000,p=0.6)\n",
    "ax = sb.distplot(data_bern,\n",
    "                  kde=True,\n",
    "                  color='pink',\n",
    "                  hist_kws={\"linewidth\": 22,'alpha':1})\n",
    "ax.set(xlabel='Bernouli', ylabel='Frequency')"
   ]
  },
  {
   "cell_type": "markdown",
   "id": "fff5b6f1",
   "metadata": {
    "id": "fff5b6f1"
   },
   "source": [
    "# Probability Density Function and Mass Function"
   ]
  },
  {
   "cell_type": "markdown",
   "id": "e120eb50",
   "metadata": {
    "id": "e120eb50"
   },
   "source": [
    "The probability density function is used to specify the probability that the random variable falls \n",
    "within a range of values as opposed to taking on one particular value. \n",
    "\n",
    "Since there are infinite possible values for a continuous random variable, the absolute likelihood that it will take up a particular value is 0.\n",
    "\n",
    "But if we take two samples, we can determine how likely it is to fall in one sample compared to the other. \n",
    "\n",
    "The probability is given by the integral of the probability density function over that range. It is the area \n",
    "under the density function above the horizontal axis between the lowest and highest values of that range.\n",
    "\n",
    "The probability density function is non-negative everywhere and its integral over the entire space is equal to 1. \n",
    "\n",
    "But when the random variables take only discrete values, the same function is called Probability Mass Function.\n",
    "\n",
    "So formally, for a continuous random variable X with probability density function f(x):\n",
    "\n",
    "![probmassfunction.PNG](https://s3.us-east-1.amazonaws.com/static2.simplilearn.com/lms/testpaper_images/ADSP/Advanced_Statistics/Probimages/probmassfunction.PNG)\n",
    "\n",
    "\n",
    "<center>So, f(x) $\\geq$ 0 for all x.</center>\n",
    "\n",
    "\n",
    "\n",
    "        \n"
   ]
  },
  {
   "cell_type": "markdown",
   "id": "08cdc2e8",
   "metadata": {},
   "source": [
    "The area under the density curve and above the horizontal axis over the entire space is equal to 1. So, \n",
    "\n",
    "![pmfequation.PNG](https://s3.us-east-1.amazonaws.com/static2.simplilearn.com/lms/testpaper_images/ADSP/Advanced_Statistics/Probimages/pmfequation.PNG)\n",
    "\n",
    "\n"
   ]
  },
  {
   "cell_type": "markdown",
   "id": "5cc27fef",
   "metadata": {
    "id": "5cc27fef"
   },
   "source": [
    "        \n",
    "<b>Example:</b>\n",
    "    \n",
    "If X is a continuous random variable with the following density function:\n",
    "\n",
    "![pmseq.PNG](https://s3.us-east-1.amazonaws.com/static2.simplilearn.com/lms/testpaper_images/ADSP/Advanced_Statistics/Probimages/pmseq.PNG)\n",
    "\n",
    " \n",
    "\n",
    "To calculate P(1 < X < 2) as per definition\n",
    "\n",
    " \n",
    " \n",
    "P(1<X<2) =  $\\int_{1}^2 {x^2}/9  dx$ = (${2^3}$/27)= (${1^3}$/27)= 7/27\n",
    "\n",
    "        \n",
    "\n",
    "\n",
    "\n"
   ]
  },
  {
   "cell_type": "markdown",
   "id": "699bce8c",
   "metadata": {
    "id": "699bce8c"
   },
   "source": [
    "### Cumulative Distribution Function"
   ]
  },
  {
   "cell_type": "markdown",
   "id": "4246c18d",
   "metadata": {
    "id": "4246c18d"
   },
   "source": [
    "\n",
    "Probability Mass Function can’t be defined for continuous random variables, Cumulative Distribution Function is \n",
    "used to describe their distribution. It can be used to describe: \n",
    "\n",
    "![contidis.PNG](https://s3.us-east-1.amazonaws.com/static2.simplilearn.com/lms/testpaper_images/ADSP/Advanced_Statistics/Probimages/contidis.PNG)\n",
    "\n"
   ]
  },
  {
   "cell_type": "markdown",
   "id": "3a27ec96",
   "metadata": {},
   "source": [
    "The cumulative distribution function of a real valued random variable X evaluated at x is the probability \n",
    "that X will take a value less than or equal to x. \n",
    "\n",
    "\n",
    "So formally, the Cumulative Distribution Function of a random variable X is defined as:\n",
    "\n",
    "![cumueq.PNG](https://s3.us-east-1.amazonaws.com/static2.simplilearn.com/lms/testpaper_images/ADSP/Advanced_Statistics/Probimages/cumueq.PNG)\n",
    "\n",
    "\n",
    "\n",
    "\n",
    "\n",
    "\n"
   ]
  },
  {
   "cell_type": "markdown",
   "id": "f7395bef",
   "metadata": {},
   "source": [
    "The CDF is monotone increasing. It means that \n",
    "\n",
    "if ${x_1}$ $\\leq$ ${x_2}$, then ${F_x}$${(x_1)}$ $\\leq$ ${F_x}$${(x_2)}$\n",
    "\n",
    "\n",
    "\n",
    "Also, the CDF of a continuous random variable can be expressed as an integral of its probability density function ${F_x}$ as follows:\n",
    "\n",
    "![cummulativeequati.PNG](https://s3.us-east-1.amazonaws.com/static2.simplilearn.com/lms/testpaper_images/ADSP/Advanced_Statistics/Probimages/cummulativeequati.PNG)\n",
    "\n",
    "\n"
   ]
  },
  {
   "cell_type": "markdown",
   "id": "322beec1",
   "metadata": {
    "id": "322beec1"
   },
   "source": [
    "## CDF Properties:"
   ]
  },
  {
   "cell_type": "markdown",
   "id": "d6d6d6ce",
   "metadata": {
    "id": "d6d6d6ce"
   },
   "source": [
    "\n",
    "    \n",
    "Each CDF is right-continuous and non-decreasing. Furthermore,\n",
    "\n",
    "$\\lim_{x \\to -\\infty} f_x(x)$ = 0 and $\\lim_{x \\to +\\infty} f_x(x)$ = 1\n",
    "\n",
    "\n",
    "\n",
    "\n",
    "<b> Example 1:</b>\n",
    "Suppose X is uniformly distributed on the unit interval [0,1] then its CDF is given by:\n",
    "\n",
    "![cdfexampl.PNG](https://s3.us-east-1.amazonaws.com/static2.simplilearn.com/lms/testpaper_images/ADSP/Advanced_Statistics/Probimages/cdfexampl.PNG)\n",
    "\n",
    "\n",
    "\n",
    "\n",
    "\n",
    "\n",
    "\n"
   ]
  },
  {
   "cell_type": "markdown",
   "id": "bee1728b",
   "metadata": {},
   "source": [
    "\n",
    "<b> Example 2:</b>\n",
    "Suppose X takes only the discrete values 0 and 1 with equal probability, then its CDF is given by:\n",
    "\n",
    "![cumexam2.PNG](https://s3.us-east-1.amazonaws.com/static2.simplilearn.com/lms/testpaper_images/ADSP/Advanced_Statistics/Probimages/cumexam2.PNG)\n",
    "\n"
   ]
  },
  {
   "cell_type": "markdown",
   "id": "18e4b4c4",
   "metadata": {
    "id": "18e4b4c4"
   },
   "source": [
    "## Central Limit Theorem "
   ]
  },
  {
   "cell_type": "markdown",
   "id": "8c13473f",
   "metadata": {
    "id": "8c13473f"
   },
   "source": [
    "<b> Scenario 1:</b>\n",
    "\n",
    "Consider a math's test score of a school of 1000 students.If we test 100 of them, the results won't significantly deviate from the results of the entire student population. According to the central limit theorem, the average test result for these 100 students will typically be the same as the average test result for the population of 1000 students.\n",
    "\n",
    "Conversely, assume test scores for 1000 students but conduct the test for 100 students.We can reasonably conclude that the average test score for these 100 students reflects the population mean. \n",
    "\n",
    "Again, suppose we have data for a particular sample and a population. The central limit theorem helps us to calculate \n",
    "the probability that a particular sample was drawn from a given population. If that probability is low, we can \n",
    "conclude confidently that the sample is not from that population.\n",
    "\n"
   ]
  },
  {
   "cell_type": "markdown",
   "id": "774d3e57",
   "metadata": {
    "id": "774d3e57"
   },
   "source": [
    "<b> Scenario 2</b>\n",
    "\n",
    "Consider the two given samples. We can infer whether they were likely drawn from the same population.\n",
    "\n",
    "\n",
    "The central limit theorem states that given a sufficiently large sample size from a population with a finite \n",
    "variance level, the mean of all sampled variables from the same population will be approximately equal to the \n",
    "mean of the whole population. These samples approximate a normal distribution with their variances being approximately \n",
    "equal to the variance of the population, as the sample size grows. \n",
    "\n",
    "Central Limit Theorem states that if X1, X2, X3,......, Xn are independent random variables that are \n",
    "identically distributed and have finite mean $\\mu$ and variance $\\sigma^2$.\n",
    "\n",
    "then, if ${S_n} = {X_1}+{X_2}+ {X_3}+......+ {X_n}$ (n= 1,2,.....), \n",
    "\n",
    "![clt.png](https://s3.us-east-1.amazonaws.com/static2.simplilearn.com/lms/testpaper_images/ADSP/Advanced_Statistics/Probability/clttheorm.png)\n",
    "\n",
    "\n",
    "\t \n",
    "That is, the random variable  $({S_n} - n\\mu )$/$\\sigma$$\\sqrt{n}$ , which is the standardized variable corresponding \n",
    "to ${S_n}$ is asymptotically normal. \n",
    "\n",
    "The theorem is also true under more general conditions.\n",
    "\n",
    "For example: \n",
    "\n",
    "When ${X_1, X_2, X_3,......, X_n}$ are independent random variables with the same mean, same variance but not necessarily identically distributed. \n",
    "\n",
    "\n"
   ]
  },
  {
   "cell_type": "markdown",
   "id": "731787ca",
   "metadata": {},
   "source": [
    "# Bayes’ Theorem "
   ]
  },
  {
   "cell_type": "markdown",
   "id": "a0b0a5bb",
   "metadata": {},
   "source": [
    "Bayes’ theorem describes how the conditional probability of each of a set of possible causes for a given observed \n",
    "outcome is computed by knowing the probability of each cause and the conditional probability of the outcome of each cause. \n",
    " \n",
    "Bayes’ theorem can be expressed as a mathematical equation and used to calculate the probability of one event based on \n",
    "its connection with another event. It is also known as Bayes' law or Bayes' rule. "
   ]
  },
  {
   "cell_type": "markdown",
   "id": "8a272404",
   "metadata": {},
   "source": [
    "# Applications of Bayes’ Theorem"
   ]
  },
  {
   "cell_type": "markdown",
   "id": "896582fb",
   "metadata": {},
   "source": [
    "Mathematically, Bayes’ theorem is expressed as: "
   ]
  },
  {
   "cell_type": "markdown",
   "id": "e36bdb62",
   "metadata": {},
   "source": [
    "![Bayes.png](https://s3.us-east-1.amazonaws.com/static2.simplilearn.com/lms/testpaper_images/ADSP/Advanced_Statistics/Bayes.png)"
   ]
  },
  {
   "cell_type": "markdown",
   "id": "e95b2a51",
   "metadata": {},
   "source": [
    "where A and B are events\n",
    "\n",
    "P(A|B) is the probability of A happening in case B happens. \n",
    "\n",
    "P(B|A) is the probability of B happening in case A happens. \n",
    "\n",
    "P(A) is the independent probability of A. \n",
    "\n",
    "P(B) is the independent probability of B. "
   ]
  },
  {
   "cell_type": "markdown",
   "id": "6657ae5b",
   "metadata": {},
   "source": [
    "### Example to illustrate how Bayes’ theorem tries to predict one event in case the other is true, as shown below: "
   ]
  },
  {
   "cell_type": "markdown",
   "id": "a8de9398",
   "metadata": {},
   "source": [
    "Rainy days bring us showers and lightning. Sometimes, there are showers with lightning, and sometimes showers without \n",
    "lightning. Similarly, sometimes there is lightning, but no showers. The Bayes’ theorem helps us find how often there is\n",
    "lightning, when there are showers. The solution is expressed as: P(Lightning | Shower). \n",
    " \n",
    " \n",
    "P(Lightning|Shower) = P(Shower|Lightning) x P(Lightning) / P(Shower) \n",
    " \n",
    "Here, P(Lightning) is the probability of lightning, and P(Shower) is the probability of showers. \n",
    "\n",
    "P(Shower|Lightning) is the probability of showers when there is lightning. \n",
    " \n",
    "IT is required to know P(Shower|Lightning), which is the probability of showers when there is lightning. This is \n",
    "referred to as ‘backwards’ of what we want to predict, while what we want to predict is ‘forwards’. Therefore, the \n",
    "formula predicts the \"forward\" event P(Lightning|Shower) by knowing the “backward” event, which is P(Shower|Lightning). \n",
    " \n",
    "The problem is seasonal, and the various events are related. The Bayes’ theorem helps us predict one when the other is \n",
    "known. \n",
    " \n"
   ]
  },
  {
   "cell_type": "markdown",
   "id": "2ed3aa29",
   "metadata": {
    "id": "2ed3aa29"
   },
   "source": [
    "## Estimation Theory"
   ]
  },
  {
   "cell_type": "markdown",
   "id": "85f105f2",
   "metadata": {
    "id": "85f105f2"
   },
   "source": [
    "\n",
    "Estimation theory is the science of guessing or estimating the properties of a population from which data is collected. \n",
    "The guesswork happens via determination of the approximate value of a population parameter based on a sample statistic.\n",
    "\n",
    "The estimator is a rule or formula that can be used to calculate the estimate based on the sample. \n",
    "\n",
    "![estimation.PNG](https://s3.us-east-1.amazonaws.com/static2.simplilearn.com/lms/testpaper_images/ADSP/Advanced_Statistics/Probimages/estimation.PNG)\n",
    "\n",
    "<b> Good estimators: </b>\n",
    "\n",
    "1) Good estimators are unbiased, that is, the average value of the estimator equals the parameter to be estimated.\n",
    "\n",
    "2) It also have minimum variance, that is, among all the unbiased estimators, the best one has a sampling \n",
    "   distribution with the smallest standard error.\n",
    "\n",
    "<b> Point estimators and Interval estimators are the two kinds of estimators.</b>\n",
    "\n"
   ]
  },
  {
   "cell_type": "markdown",
   "id": "78f8aea3",
   "metadata": {
    "id": "78f8aea3"
   },
   "source": [
    "## What is Point estimator?"
   ]
  },
  {
   "cell_type": "markdown",
   "id": "9e3be6ba",
   "metadata": {
    "id": "9e3be6ba"
   },
   "source": [
    "1. A point estimator is a function of the data that is used to deduce the value of an unknown parameter in a statistical \n",
    "  model.\n",
    "  \n",
    "\n",
    "2. A point estimate is one of many possible values for the point estimator. For example, the mean income of a \n",
    "  class of graduate trainees is $800 per week; this  is a point estimate.\n",
    "  \n",
    "\n",
    "3. A point estimator is assessed on three criteria:\n",
    "\n",
    "![point.PNG](https://s3.us-east-1.amazonaws.com/static2.simplilearn.com/lms/testpaper_images/ADSP/Advanced_Statistics/Probimages/point.PNG)\n"
   ]
  },
  {
   "cell_type": "markdown",
   "id": "378ca227",
   "metadata": {
    "id": "378ca227"
   },
   "source": [
    "* <b>Unbiasedness (mean):</b> It is a measurement of whether the mean of this estimator is close to the actual parameter.\n",
    "    \n",
    "    \n",
    "* <b> Efficiency (variance):</b> It denotes whether the standard deviation of this estimator is close to the actual parameter.\n",
    "\n",
    "    \n",
    "* <b> Consistency (size):</b> It indicates whether the probability distribution of the estimator is concentrated on the \n",
    "parameter with an increase in the sample size.\n",
    "\n",
    "        "
   ]
  },
  {
   "cell_type": "markdown",
   "id": "d0016832",
   "metadata": {
    "id": "d0016832"
   },
   "source": [
    "## Interval Estimator"
   ]
  },
  {
   "cell_type": "markdown",
   "id": "1989ab96",
   "metadata": {
    "id": "1989ab96"
   },
   "source": [
    "An interval estimator of a population parameter under random sampling consists of two random variables, called\n",
    "the upper and lower limits, whose values decide intervals that expect to contain the parameter estimated. \n",
    "\n",
    "* Interval estimates are all the ranges that an interval estimator can assume. \n",
    "\n",
    "\n",
    "* There is a range within which a population parameter probably lies, and the interval estimate captures that.\n",
    "\n",
    "\n",
    "* The mean income of a class of graduate trainees between <b>\\$775 and \\$950</b> per week is an example of an interval estimate.\n",
    "\n",
    "\n",
    "<b> An interval estimator can be assessed through its:</b> \n",
    "\n",
    "1) Accuracy or confidence level\n",
    "\n",
    "2) Precision or margin of error\n",
    "\n",
    "The design of an interval estimator consists of evaluating an unbiased point estimator and designating an interval \n",
    "of logical width around it.\n",
    "\n",
    "\n"
   ]
  },
  {
   "cell_type": "markdown",
   "id": "3e2de3dd",
   "metadata": {},
   "source": [
    "# Use Case: Finding a Point Estimate"
   ]
  },
  {
   "cell_type": "markdown",
   "id": "60cdce53",
   "metadata": {},
   "source": [
    "### Problem Statement:"
   ]
  },
  {
   "cell_type": "markdown",
   "id": "b4a2935e",
   "metadata": {},
   "source": [
    "An economics researcher is collecting data about grocery store employees in a country. The data represent\n",
    "a random sample of the number of hours worked by 40 employees from several grocery stores in the country. Find a point \n",
    "estimate of the population mean."
   ]
  },
  {
   "cell_type": "markdown",
   "id": "360ce70c",
   "metadata": {},
   "source": [
    "### Solution:"
   ]
  },
  {
   "cell_type": "code",
   "execution_count": 1,
   "id": "4c55a683",
   "metadata": {},
   "outputs": [
    {
     "name": "stdout",
     "output_type": "stream",
     "text": [
      "sample mean:  29.6\n"
     ]
    }
   ],
   "source": [
    "# Random data of forty employees\n",
    "data = [30, 26, 33, 26, 26, 33, 31, 31, 21, 37,\n",
    "        27, 20, 34, 35, 30, 24, 38, 34, 39, 31,\n",
    "        22, 30, 23, 23, 31, 44, 31, 33, 33, 26,\n",
    "        27, 28, 25, 35, 23, 32, 29, 31, 25, 27]\n",
    "\n",
    "n = len(data)\n",
    "sample_mean =  sum(data) / n\n",
    "print('sample mean: ', sample_mean)"
   ]
  },
  {
   "cell_type": "markdown",
   "id": "5caa2c04",
   "metadata": {},
   "source": [
    "So, the point estimate for the mean number of hours worked by grocery store employees in this country is 29.6 hours.\n",
    "\n"
   ]
  }
 ],
 "metadata": {
  "colab": {
   "provenance": []
  },
  "kernelspec": {
   "display_name": "Python 3 (ipykernel)",
   "language": "python",
   "name": "python3"
  },
  "language_info": {
   "codemirror_mode": {
    "name": "ipython",
    "version": 3
   },
   "file_extension": ".py",
   "mimetype": "text/x-python",
   "name": "python",
   "nbconvert_exporter": "python",
   "pygments_lexer": "ipython3",
   "version": "3.10.6"
  }
 },
 "nbformat": 4,
 "nbformat_minor": 5
}
